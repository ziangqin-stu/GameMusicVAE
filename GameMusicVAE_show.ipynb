{
 "cells": [
  {
   "cell_type": "markdown",
   "metadata": {},
   "source": [
    "## Environment Setup\n",
    "To take a closer look at the code, the first thing you should know is:\n",
    "1. useful codes can be found in ./lib, all data, including any formats of midi file and models, are located in ./source.\n",
    "2. the command-line interface of this project is ./gmvae.py, though this interface is not fully finished yet, you should consider using this as the only way to access all functionalities of this project.\n",
    "\n",
    "The rest contents are easy to explore."
   ]
  },
  {
   "cell_type": "code",
   "execution_count": null,
   "metadata": {},
   "outputs": [],
   "source": [
    "import lib."
   ]
  },
  {
   "cell_type": "markdown",
   "metadata": {},
   "source": [
    "## Reuse MusicVAE's Model\n",
    "The first plan is to build a valid dataset for game music. We will use this dataset to train a standard MusicVAE and do some sampling.\n",
    "\n",
    "### Data Collection\n",
    "The first data preparing step basically contain three data format(.mid, .txt, .tfrecord) and three steps:\n",
    "1. collecting midi file from Internet (.mid);\n",
    "2. screening and windowing raw midi files to fixed-length trio midi file (.mid -> .txt -> .mid)\n",
    "3. transfer midi files to note sequences (.tfrecord), note sequence form can be feed into MusicVAE;\n",
    "\n",
    "The tailed pipeline of building a dataset is as follws:\n",
    "1. collect raw midi files from \"[VGMusic](https://www.vgmusic.com/)\" and store them in a folder;\n",
    "2. transform raw midi files to PrettyMIDI object (see [pretty_midi](http://craffel.github.io/pretty-midi/) and persist PrettyMIDI objects into .txt file in a batch way;\n",
    "3. screening and windowing raw PrettyMIDI object to form trio dataset, then persist windowed PrettyMIDI objects into .txt file in a batch way, the screening and windowing method is the same as the method introduced in MuiscVAE paper \"[A Hierarchical Latent Vector Model for Learning Long-Term Structure in Music](https://arxiv.org/abs/1803.05428)\";\n",
    "4. transfer trio dataset to midi files and store in a folder\n"
   ]
  },
  {
   "cell_type": "code",
   "execution_count": null,
   "metadata": {},
   "outputs": [],
   "source": []
  }
 ],
 "metadata": {
  "kernelspec": {
   "display_name": "Python 3",
   "language": "python",
   "name": "python3"
  },
  "language_info": {
   "codemirror_mode": {
    "name": "ipython",
    "version": 3
   },
   "file_extension": ".py",
   "mimetype": "text/x-python",
   "name": "python",
   "nbconvert_exporter": "python",
   "pygments_lexer": "ipython3",
   "version": "3.6.9"
  }
 },
 "nbformat": 4,
 "nbformat_minor": 2
}
